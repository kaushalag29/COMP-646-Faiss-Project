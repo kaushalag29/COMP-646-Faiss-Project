{
 "cells": [
  {
   "cell_type": "code",
   "execution_count": 6,
   "id": "78f8086a-d10e-41c4-96a5-e4b5e4eb7249",
   "metadata": {},
   "outputs": [],
   "source": [
    "import pandas as pd\n",
    "df = pd.read_csv(\"image_features.csv\", nrows=61000)"
   ]
  },
  {
   "cell_type": "code",
   "execution_count": 7,
   "id": "78b50aff-c3cc-44c6-a38c-564451e8be3e",
   "metadata": {},
   "outputs": [
    {
     "name": "stdout",
     "output_type": "stream",
     "text": [
      "61000\n",
      "Index(['Image Path', 'Features'], dtype='object')\n"
     ]
    }
   ],
   "source": [
    "# import ast\n",
    "# import numpy as np\n",
    "# x = df['Features'].apply(ast.literal_eval)\n",
    "# len(x[0])\n",
    "# np.vstack(x)\n",
    "# type(x)\n",
    "print(len(df))\n",
    "# print(len(df[\"Features\"]))\n",
    "print(df.columns)"
   ]
  },
  {
   "cell_type": "code",
   "execution_count": 8,
   "id": "f0c5023e-3b80-41d7-85ee-9edaaf18af58",
   "metadata": {},
   "outputs": [],
   "source": [
    "import numpy as np\n",
    "import faiss\n",
    "import ast"
   ]
  },
  {
   "cell_type": "code",
   "execution_count": 9,
   "id": "9955cd31-befc-42fe-bd0f-64b46fd14ec5",
   "metadata": {},
   "outputs": [],
   "source": [
    "# index = faiss.read_index(\"correct2FaissMultiLang100000.index\")\n",
    "#index = faiss.read_index(\"faissImageVector1M.index\")"
   ]
  },
  {
   "cell_type": "code",
   "execution_count": 10,
   "id": "490ef62e-1975-4f6c-965e-afa94bf32459",
   "metadata": {},
   "outputs": [
    {
     "name": "stdout",
     "output_type": "stream",
     "text": [
      "(61000, 1152)\n"
     ]
    }
   ],
   "source": [
    "vectors = np.vstack(df['Features'].apply(ast.literal_eval)).astype('float32')\n",
    "print(vectors.shape)\n",
    "d = vectors.shape[1]\n",
    "index = faiss.IndexFlatL2(d)\n",
    "index.add(vectors)\n",
    "del vectors"
   ]
  },
  {
   "cell_type": "code",
   "execution_count": 11,
   "id": "ff3c8594-2495-4254-bb7b-bbc3ecf8cff3",
   "metadata": {},
   "outputs": [],
   "source": [
    "# Create an index of 61000 image vectors\n",
    "faiss.write_index(index, \"faissL2-000-061.index\")"
   ]
  },
  {
   "cell_type": "code",
   "execution_count": null,
   "id": "4217f1b6-db10-47e3-b030-4a95ba993e2c",
   "metadata": {},
   "outputs": [],
   "source": []
  }
 ],
 "metadata": {
  "kernelspec": {
   "display_name": "Python 3 (ipykernel)",
   "language": "python",
   "name": "python3"
  },
  "language_info": {
   "codemirror_mode": {
    "name": "ipython",
    "version": 3
   },
   "file_extension": ".py",
   "mimetype": "text/x-python",
   "name": "python",
   "nbconvert_exporter": "python",
   "pygments_lexer": "ipython3",
   "version": "3.11.8"
  }
 },
 "nbformat": 4,
 "nbformat_minor": 5
}
