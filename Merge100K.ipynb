{
 "cells": [
  {
   "cell_type": "markdown",
   "id": "467884b3-0df8-40c4-880c-0783f953b8d6",
   "metadata": {},
   "source": [
    "<h1> Import Libraries </h1>"
   ]
  },
  {
   "cell_type": "code",
   "execution_count": 2,
   "id": "756027d0-34ff-40d8-ab98-73c9cf10e44f",
   "metadata": {
    "tags": []
   },
   "outputs": [],
   "source": [
    "import pandas as pd\n",
    "import faiss\n",
    "import numpy as np\n",
    "import faiss\n",
    "import ast"
   ]
  },
  {
   "cell_type": "code",
   "execution_count": 27,
   "id": "5900e622-525f-42dc-a0d6-6f0f074d195b",
   "metadata": {
    "tags": []
   },
   "outputs": [],
   "source": [
    "df61_160 = pd.read_csv(\"multiLang61_160_image_features.csv\")"
   ]
  },
  {
   "cell_type": "code",
   "execution_count": 4,
   "id": "4d7020ec-3554-4f14-9a5e-41145c80af60",
   "metadata": {
    "tags": []
   },
   "outputs": [],
   "source": [
    "df0_60 = pd.read_csv(\"sbu_multi_lang_image_features.csv\")"
   ]
  },
  {
   "cell_type": "code",
   "execution_count": 31,
   "id": "007b390a-d958-46f1-ad35-16036cddb85d",
   "metadata": {
    "tags": []
   },
   "outputs": [],
   "source": [
    "df161_260 = pd.read_csv(\"multiLang161_260_image_features.csv\")"
   ]
  },
  {
   "cell_type": "code",
   "execution_count": 36,
   "id": "095d39a3-af80-42cf-a6b4-fca7cf4002b9",
   "metadata": {
    "tags": []
   },
   "outputs": [],
   "source": [
    "df261_360 = pd.read_csv(\"multiLang261_360_image_features.csv\")"
   ]
  },
  {
   "cell_type": "code",
   "execution_count": 7,
   "id": "6aa98c4f-fe39-4c3f-bf0f-30bebecb9cf4",
   "metadata": {
    "tags": []
   },
   "outputs": [],
   "source": [
    "df361_460 = pd.read_csv(\"multiLang361_460_image_features.csv\")"
   ]
  },
  {
   "cell_type": "code",
   "execution_count": 8,
   "id": "81a68da8-e74e-4c82-bb85-3168139a32c3",
   "metadata": {
    "tags": []
   },
   "outputs": [],
   "source": [
    "df461_560 = pd.read_csv(\"multiLang461_560_image_features.csv\")"
   ]
  },
  {
   "cell_type": "code",
   "execution_count": 9,
   "id": "e3126e59-05d4-4d38-8be0-d9dd2c6ab348",
   "metadata": {
    "tags": []
   },
   "outputs": [],
   "source": [
    "df561_660 = pd.read_csv(\"multiLang561_660_image_features.csv\")"
   ]
  },
  {
   "cell_type": "code",
   "execution_count": 25,
   "id": "ad92e7c0-8326-484f-ba5f-758e201a1982",
   "metadata": {
    "tags": []
   },
   "outputs": [],
   "source": [
    "df861_960 = pd.read_csv(\"multiLang861_960_image_features.csv\")"
   ]
  },
  {
   "cell_type": "code",
   "execution_count": 17,
   "id": "8871a533-b100-45ff-a3c8-0255f0647be8",
   "metadata": {
    "tags": []
   },
   "outputs": [],
   "source": [
    "df_161_660 = pd.concat([df61_160, df161_260, df261_360, df361_460, df461_560, df561_660], ignore_index=True)"
   ]
  },
  {
   "cell_type": "code",
   "execution_count": 29,
   "id": "536925c3-da4d-458a-b295-575d1874cb04",
   "metadata": {
    "tags": []
   },
   "outputs": [],
   "source": [
    "df961_999 = pd.read_csv(\"multiLang961_999_image_features.csv\")"
   ]
  },
  {
   "cell_type": "code",
   "execution_count": 30,
   "id": "30e64ad7-3a91-4139-90a3-410ea2e4b544",
   "metadata": {
    "tags": []
   },
   "outputs": [],
   "source": [
    "df961_999['vector'] = df961_999['Features'].apply(ast.literal_eval)"
   ]
  },
  {
   "cell_type": "code",
   "execution_count": 31,
   "id": "21dbb641-6067-45f9-a12a-5a938198cb10",
   "metadata": {
    "tags": []
   },
   "outputs": [],
   "source": [
    "vectors = np.array(df961_999['vector'].tolist()).astype('float32')\n",
    "d = vectors.shape[1]\n",
    "index961_999 = faiss.IndexFlatL2(d)\n",
    "index961_999.add(vectors)"
   ]
  },
  {
   "cell_type": "code",
   "execution_count": 32,
   "id": "9027a690-add7-4db6-95cb-eb56c6869b37",
   "metadata": {
    "tags": []
   },
   "outputs": [],
   "source": [
    "faiss.write_index(index961_999, \"index961_999.index\")"
   ]
  },
  {
   "cell_type": "code",
   "execution_count": null,
   "id": "fabdc047-a03a-4960-9bca-007b15d244bc",
   "metadata": {},
   "outputs": [],
   "source": [
    "def indices_to_images(indices):\n",
    "    image_paths = []\n",
    "    for i in indices:\n",
    "        folder_name = i // 1000\n",
    "        file_name = i % 1000\n",
    "        folder_str = f\"{folder_name:04d}\"\n",
    "        file_str = f\"{file_name:03d}.jpg\"\n",
    "        image_paths.append(\"images\" + \"/\" + folder_str + \"/\" + file_str)\n",
    "    return image_paths\n",
    "        \n",
    "def ImageSimilar(features, k):\n",
    "    _, I = new_combined_index.search(features, k) \n",
    "    similarList = I.tolist()\n",
    "    similarPath = indices_to_images(similarList[0])\n",
    "    return similarPath\n",
    "\n",
    "def DisplaySimilarImage(similarPath, k):\n",
    "    res = []\n",
    "    fig = plt.figure(figsize=(100., 100.))\n",
    "    noRows = max(1, len(similarPath)//4)\n",
    "    grid = ImageGrid(fig,111,\n",
    "                     nrows_ncols=(noRows, k//noRows),\n",
    "                     axes_pad=0.1,\n",
    "                     )\n",
    "    for path in similarPath:\n",
    "        img = Image.open(path)\n",
    "        img = img.resize((150, 150), resample=Image.BILINEAR)\n",
    "        res.append(img)\n",
    "\n",
    "\n",
    "\n",
    "    for ax, im in zip(grid, res):\n",
    "        ax.imshow(im)\n",
    "        ax.axis('off')\n",
    "\n",
    "    _ = plt.show()"
   ]
  },
  {
   "cell_type": "code",
   "execution_count": 15,
   "id": "ed906cb9-f2f4-49f3-b7dd-92d0e8129123",
   "metadata": {
    "tags": []
   },
   "outputs": [],
   "source": [
    "import torch\n",
    "from transformers import AutoTokenizer, AutoModel"
   ]
  },
  {
   "cell_type": "code",
   "execution_count": null,
   "id": "b45951ea-1d74-4d0a-85ce-1fbadfdba811",
   "metadata": {},
   "outputs": [],
   "source": [
    "model = AutoModel.from_pretrained(\"google/siglip-so400m-patch14-384\", low_cpu_mem_usage=True)"
   ]
  },
  {
   "cell_type": "code",
   "execution_count": null,
   "id": "02cedd5c-acfc-44f9-8946-cba19b9cfacf",
   "metadata": {},
   "outputs": [],
   "source": [
    "tokenizer = AutoTokenizer.from_pretrained(\"google/siglip-so400m-patch14-384\")"
   ]
  },
  {
   "cell_type": "code",
   "execution_count": null,
   "id": "7e3d5d29-c8d8-41fe-9851-6260c8dfa231",
   "metadata": {},
   "outputs": [],
   "source": [
    "text_query = \"  A new church in Leam with cool window reflections.\""
   ]
  },
  {
   "cell_type": "code",
   "execution_count": 33,
   "id": "29195b8d-07b2-4c31-8ccb-76174d6282fe",
   "metadata": {
    "tags": []
   },
   "outputs": [],
   "source": [
    "index0_61 = faiss.read_index(\"faissL2-000-61.index\")"
   ]
  },
  {
   "cell_type": "code",
   "execution_count": 34,
   "id": "32969cf7-af64-4a91-98b0-26a944253767",
   "metadata": {
    "tags": []
   },
   "outputs": [],
   "source": [
    "index61_160 = faiss.read_index(\"faissL2-61-160.index\")"
   ]
  },
  {
   "cell_type": "code",
   "execution_count": 35,
   "id": "39f0eb75-cb0a-4041-9686-267e4425e8fa",
   "metadata": {
    "tags": []
   },
   "outputs": [],
   "source": [
    "index161_260 = faiss.read_index(\"faissL2-161-260.index\")"
   ]
  },
  {
   "cell_type": "code",
   "execution_count": 36,
   "id": "531646d0-1def-49c2-82bb-79170c677b96",
   "metadata": {
    "tags": []
   },
   "outputs": [],
   "source": [
    "index261_360 = faiss.read_index(\"faissL2-261-360.index\")"
   ]
  },
  {
   "cell_type": "code",
   "execution_count": 37,
   "id": "a6fc74c1-9e40-4323-bc10-f8b479e81704",
   "metadata": {
    "tags": []
   },
   "outputs": [],
   "source": [
    "index361_460 = faiss.read_index(\"faissL2-361-460.index\")"
   ]
  },
  {
   "cell_type": "code",
   "execution_count": 38,
   "id": "04491ecf-23ae-4675-868c-d5024817360a",
   "metadata": {
    "tags": []
   },
   "outputs": [],
   "source": [
    "index461_560 = faiss.read_index(\"faissL2-461-560.index\")"
   ]
  },
  {
   "cell_type": "code",
   "execution_count": 39,
   "id": "94e3b39d-b1f3-4c83-8fc0-d8e1da2e5864",
   "metadata": {
    "tags": []
   },
   "outputs": [],
   "source": [
    "index561_660 = faiss.read_index(\"faissL2-561-660.index\")"
   ]
  },
  {
   "cell_type": "code",
   "execution_count": 40,
   "id": "021c025a-fd22-4426-8566-a5eb25c9e04b",
   "metadata": {
    "tags": []
   },
   "outputs": [],
   "source": [
    "index661_760 = faiss.read_index(\"faissL2-661-760.index\")"
   ]
  },
  {
   "cell_type": "code",
   "execution_count": 41,
   "id": "624eb654-ca88-43bf-bd56-a0751f90729f",
   "metadata": {
    "tags": []
   },
   "outputs": [],
   "source": [
    "index761_860 = faiss.read_index(\"faissL2-761-860.index\")"
   ]
  },
  {
   "cell_type": "code",
   "execution_count": 42,
   "id": "09f64b9e-b587-49c6-b36c-024ead004edc",
   "metadata": {
    "tags": []
   },
   "outputs": [],
   "source": [
    "index861_960 = faiss.read_index(\"faissL2-861-960.index\")"
   ]
  },
  {
   "cell_type": "code",
   "execution_count": 43,
   "id": "bd9feb75-b64d-4ba5-acea-2fb16d127560",
   "metadata": {
    "tags": []
   },
   "outputs": [],
   "source": [
    "index961_999 = faiss.read_index(\"faissL2-961-999.index\")"
   ]
  },
  {
   "cell_type": "code",
   "execution_count": 44,
   "id": "04516809-37a4-4f17-9b79-bf4902acaa89",
   "metadata": {
    "tags": []
   },
   "outputs": [],
   "source": [
    "import faiss\n",
    "import numpy as np\n",
    "\n",
    "def extract_vectors(index):\n",
    "    d = index.d\n",
    "    ntotal = index.ntotal\n",
    "    vectors = np.zeros((ntotal, d), dtype=np.float32)\n",
    "    for i in range(ntotal):\n",
    "        vectors[i, :] = index.reconstruct(i)\n",
    "    return vectors\n",
    "\n",
    "# Assuming indexes are loaded here\n",
    "indexes = [\n",
    "    index0_61,\n",
    "    index61_160,\n",
    "    index161_260,\n",
    "    index261_360,\n",
    "    index361_460,\n",
    "    index461_560,\n",
    "    index561_660,\n",
    "    index661_760,\n",
    "    index761_860,\n",
    "index861_960,\n",
    "index961_999]       \n",
    "\n",
    "# Validate same dimensionality\n",
    "dimensionality = indexes[0].d\n",
    "if not all(idx.d == dimensionality for idx in indexes):\n",
    "    raise ValueError(\"All indexes must have the same dimensionality.\")\n",
    "\n",
    "combined_vectors = None\n",
    "\n",
    "for idx in indexes:\n",
    "    vectors = extract_vectors(idx)\n",
    "    combined_vectors = vectors if combined_vectors is None else np.vstack((combined_vectors, vectors))\n",
    "\n",
    "if combined_vectors is not None:\n",
    "    new_combined_index = faiss.IndexFlatL2(dimensionality)\n",
    "    new_combined_index.add(combined_vectors)\n",
    "    "
   ]
  },
  {
   "cell_type": "code",
   "execution_count": 45,
   "id": "ea2e7252-6bf7-44cf-8fc4-e70639902a7f",
   "metadata": {
    "tags": []
   },
   "outputs": [],
   "source": [
    "faiss.write_index(new_combined_index, \"multi1MImageVectors.index\")"
   ]
  },
  {
   "cell_type": "code",
   "execution_count": 46,
   "id": "808371ec-828f-46f6-bbb1-bbbf255a4c47",
   "metadata": {
    "tags": []
   },
   "outputs": [
    {
     "data": {
      "text/plain": [
       "1000000"
      ]
     },
     "execution_count": 46,
     "metadata": {},
     "output_type": "execute_result"
    }
   ],
   "source": [
    "new_combined_index.ntotal"
   ]
  },
  {
   "cell_type": "code",
   "execution_count": null,
   "id": "c4377362-2c43-4730-985f-288d17bedd4d",
   "metadata": {},
   "outputs": [],
   "source": []
  }
 ],
 "metadata": {
  "kernelspec": {
   "display_name": "Python 3 (ipykernel)",
   "language": "python",
   "name": "python3"
  },
  "language_info": {
   "codemirror_mode": {
    "name": "ipython",
    "version": 3
   },
   "file_extension": ".py",
   "mimetype": "text/x-python",
   "name": "python",
   "nbconvert_exporter": "python",
   "pygments_lexer": "ipython3",
   "version": "3.11.4"
  }
 },
 "nbformat": 4,
 "nbformat_minor": 5
}
