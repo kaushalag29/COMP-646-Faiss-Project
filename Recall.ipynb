{
 "cells": [
  {
   "cell_type": "code",
   "execution_count": 80,
   "id": "d18144f1-818e-4311-a9ea-2800a136a226",
   "metadata": {
    "tags": []
   },
   "outputs": [],
   "source": [
    "from mpl_toolkits.axes_grid1 import ImageGrid\n",
    "import matplotlib.pyplot as plt\n",
    "from PIL import Image\n",
    "def DisplaySimilarImage(images):\n",
    "        res = []\n",
    "        fig = plt.figure(figsize=(100., 100.))\n",
    "        noRows = max(1, len(images)//4)\n",
    "        grid = ImageGrid(fig,111,\n",
    "                         nrows_ncols=(noRows, 10//noRows),\n",
    "                         axes_pad=0.1,\n",
    "                         )\n",
    "        for path in images:\n",
    "            img = Image.open(path)\n",
    "            img = img.resize((150, 150), resample=Image.BILINEAR)\n",
    "            res.append(img)\n",
    "    \n",
    "        \n",
    "\n",
    "        for ax, im in zip(grid, res):\n",
    "            ax.imshow(im)\n",
    "            ax.axis('off')\n",
    "\n",
    "        _ = plt.show()"
   ]
  },
  {
   "cell_type": "markdown",
   "id": "9a666dad-8057-4b5f-8960-7d3e1bd9be2e",
   "metadata": {},
   "source": [
    "<h1> Random Generator </h1>"
   ]
  },
  {
   "cell_type": "code",
   "execution_count": 36,
   "id": "cc110754-7b45-4962-aac0-6e5f4e05f138",
   "metadata": {
    "tags": []
   },
   "outputs": [],
   "source": [
    "import os\n",
    "import random\n",
    "import pandas as pd\n",
    "def create_random(rand):\n",
    "    def find_files(directory):\n",
    "        file_paths = []\n",
    "        for root, dirs, files in os.walk(directory):\n",
    "            for file in files:\n",
    "                if len(file.split(\".\")[0]) != 3:\n",
    "                    continue\n",
    "                file_paths.append(os.path.join(root, file))\n",
    "        file_paths.sort()\n",
    "        return file_paths\n",
    "\n",
    "    def random_files(file_paths, num_files):\n",
    "        if num_files > len(file_paths):\n",
    "            print(\"Not enough files to select the desired number. Selecting all files.\")\n",
    "            return file_paths\n",
    "        return random.sample(file_paths, num_files)\n",
    "\n",
    "    directory = 'images'\n",
    "    all_files = find_files(directory)\n",
    "\n",
    "    number_of_files_to_select = rand\n",
    "\n",
    "    selected_files = random_files(all_files, number_of_files_to_select)\n",
    "    dfTxt = pd.read_csv(\"dataset/SBU_captioned_photo_dataset_captions.txt\", sep=\"\\t\", header=None)\n",
    "    resLine = []\n",
    "    for path in selected_files:\n",
    "        folderNum = int(path.split(\"/\")[1])\n",
    "        fileNum = int(path.split(\"/\")[2].split(\".\")[0])\n",
    "        if folderNum != 0:\n",
    "            line = (folderNum)*1000 + fileNum \n",
    "            resLine.append(dfTxt[0].iloc[line])\n",
    "        else:\n",
    "            line = fileNum\n",
    "            resLine.append(dfTxt[0].iloc[line])\n",
    "\n",
    "\n",
    "    dictPath = dict(zip(selected_files, resLine))\n",
    "    return dictPath\n"
   ]
  },
  {
   "cell_type": "code",
   "execution_count": 37,
   "id": "1bd4b046-73a1-4a50-a442-2ebd88ead115",
   "metadata": {
    "tags": []
   },
   "outputs": [],
   "source": [
    "dictPath = create_random(1000)"
   ]
  },
  {
   "cell_type": "markdown",
   "id": "c93623e8-ba44-43c1-8326-b3a75343408f",
   "metadata": {},
   "source": [
    "<h1> Recall with IndexFlatL2</h1>"
   ]
  },
  {
   "cell_type": "code",
   "execution_count": 29,
   "id": "4fc28595-2743-4f76-8469-c04ba85ee34f",
   "metadata": {
    "tags": []
   },
   "outputs": [],
   "source": [
    "import matplotlib.pyplot as plt\n",
    "from PIL import Image\n",
    "from mpl_toolkits.axes_grid1 import ImageGrid\n",
    "import requests\n",
    "from io import BytesIO\n",
    "from collections import defaultdict\n",
    "recallMatch = defaultdict(int)\n",
    "import faiss\n",
    "import torch\n",
    "from transformers import AutoModel, AutoTokenizer\n",
    "imgIndex = faiss.read_index('multi1MImageVectors.index')\n",
    "model = AutoModel.from_pretrained(\"google/siglip-so400m-patch14-384\")\n",
    "tokenizer = AutoTokenizer.from_pretrained(\"google/siglip-so400m-patch14-384\")\n"
   ]
  },
  {
   "cell_type": "code",
   "execution_count": 38,
   "id": "a41264f5-0fd5-4dd7-80c9-15221cd154f6",
   "metadata": {
    "tags": []
   },
   "outputs": [],
   "source": [
    "\n",
    "def recallK(k):\n",
    "    model.eval()\n",
    "    k = k\n",
    "    res = []\n",
    "    recall = {}\n",
    "    fig = plt.figure(figsize=(100., 100.))\n",
    "    for key, value in dictPath.items():\n",
    "        inputs = tokenizer([value], padding=\"max_length\", return_tensors=\"pt\")\n",
    "        with torch.no_grad():\n",
    "            \n",
    "            text_features = model.get_text_features(**inputs)\n",
    "            similar_images = ImageSimilar(text_features, k)\n",
    "\n",
    "        for idx, img_path in enumerate(similar_images):\n",
    "            if img_path == key:\n",
    "                recallMatch[img_path] = idx\n",
    "    i = 1            \n",
    "    while(i<k+1):\n",
    "        count = 0\n",
    "        for key, value in recallMatch.items():\n",
    "            if value == 0:\n",
    "                continue\n",
    "            elif value <= i:\n",
    "                count+=1\n",
    "        #print(count)\n",
    "        recall[i] = count/10\n",
    "        if i == 1:\n",
    "            i+=9\n",
    "        else:\n",
    "            i+=10\n",
    "    return recall\n",
    "            \n",
    "            \n",
    "                \n",
    "def indices_to_images(indices):\n",
    "    image_paths = []\n",
    "    for i in indices:\n",
    "        folder_name = i // 1000\n",
    "        file_name = i % 1000\n",
    "        folder_str = f\"{folder_name:04d}\"\n",
    "        file_str = f\"{file_name:03d}.jpg\"\n",
    "        image_paths.append(\"images\" + \"/\" + folder_str + \"/\" + file_str)\n",
    "    return image_paths\n",
    "        \n",
    "def ImageSimilar(features, k):\n",
    "    _, I = imgIndex.search(features, k) \n",
    "    similarList = I.tolist()\n",
    "    similarPath = indices_to_images(similarList[0])\n",
    "    return similarPath\n",
    "            \n",
    "    \n",
    "    \n"
   ]
  },
  {
   "cell_type": "code",
   "execution_count": 39,
   "id": "b53a2be8-9218-40a1-8c33-986ad1b88124",
   "metadata": {
    "tags": []
   },
   "outputs": [
    {
     "name": "stdout",
     "output_type": "stream",
     "text": [
      "{1: 8.8, 10: 35.3, 20: 47.8, 30: 56.9, 40: 63.1, 50: 67.4, 60: 71.7, 70: 76.6, 80: 80.9, 90: 84.1, 100: 87.0}\n"
     ]
    },
    {
     "data": {
      "text/plain": [
       "<Figure size 10000x10000 with 0 Axes>"
      ]
     },
     "metadata": {},
     "output_type": "display_data"
    }
   ],
   "source": [
    "print(recallK(100))"
   ]
  },
  {
   "cell_type": "markdown",
   "id": "bc0eaefa-a400-4140-ac33-e46816155d4c",
   "metadata": {},
   "source": [
    "<h1> BruteForce to IVF </h1>"
   ]
  },
  {
   "cell_type": "code",
   "execution_count": 13,
   "id": "e5b171d9-6676-46a2-9f36-eebd0f4a0e7d",
   "metadata": {
    "tags": []
   },
   "outputs": [],
   "source": [
    "import numpy as np\n",
    "import faiss\n",
    "index = faiss.read_index('multi1MImageVectors.index')\n",
    "vectors = []\n",
    "index.ntotal\n",
    "for i in range(index.ntotal):\n",
    "    vectors.append(index.reconstruct(i))\n",
    "vectors = np.array(vectors)\n",
    "index_flatl2 = faiss.IndexFlatL2(vectors.shape[1])\n",
    "index_flatl2.add(vectors)\n",
    "nlist = 50\n",
    "kmeans = faiss.Kmeans(vectors.shape[1], nlist)\n",
    "kmeans.train(vectors)\n",
    "quantizer = faiss.IndexFlatL2(vectors.shape[1])\n",
    "quantizer.add(kmeans.centroids)\n",
    "index_ivfflat = faiss.IndexIVFFlat(quantizer, vectors.shape[1], nlist)\n",
    "index_ivfflat.train(vectors)\n",
    "index_ivfflat.add(vectors)"
   ]
  },
  {
   "cell_type": "code",
   "execution_count": 14,
   "id": "62d42321-6c7e-4cfe-8c73-4a1fbb89d72c",
   "metadata": {
    "tags": []
   },
   "outputs": [],
   "source": [
    "faiss.write_index(index_ivfflat, 'multi1MIVFImageVectors.index')"
   ]
  },
  {
   "cell_type": "markdown",
   "id": "7ba6bdba-1451-4cbb-987e-48917591a596",
   "metadata": {},
   "source": [
    "<h1> Recall with IVF <h1>"
   ]
  },
  {
   "cell_type": "code",
   "execution_count": 40,
   "id": "1699aa5a-5d19-4769-a1cd-4dd3c40a5fda",
   "metadata": {
    "tags": []
   },
   "outputs": [],
   "source": [
    "import matplotlib.pyplot as plt\n",
    "from PIL import Image\n",
    "from mpl_toolkits.axes_grid1 import ImageGrid\n",
    "import requests\n",
    "from io import BytesIO\n",
    "from collections import defaultdict\n",
    "recallMatch = defaultdict(int)\n",
    "import faiss\n",
    "from transformers import AutoModel, AutoTokenizer\n",
    "import torch\n",
    "\n",
    "imgIndex = faiss.read_index('multi1MIVFImageVectors.index')\n",
    "#model = AutoModel.from_pretrained(\"google/siglip-so400m-patch14-384\")\n",
    "#tokenizer = AutoTokenizer.from_pretrained(\"google/siglip-so400m-patch14-384\")"
   ]
  },
  {
   "cell_type": "code",
   "execution_count": 41,
   "id": "af9aedd4-65ae-4e9f-bb4e-70b1a95d5470",
   "metadata": {
    "tags": []
   },
   "outputs": [],
   "source": [
    "def recallK(k):\n",
    "    model.eval()\n",
    "    k = k\n",
    "    res = []\n",
    "    recall = {}\n",
    "    fig = plt.figure(figsize=(100., 100.))\n",
    "    for key, value in dictPath.items():\n",
    "        inputs = tokenizer([value], padding=\"max_length\", return_tensors=\"pt\")\n",
    "        with torch.no_grad():\n",
    "            \n",
    "            text_features = model.get_text_features(**inputs)\n",
    "            similar_images = ImageSimilar(text_features, k)\n",
    "\n",
    "        for idx, img_path in enumerate(similar_images):\n",
    "            if img_path == key:\n",
    "                recallMatch[img_path] = idx\n",
    "    i = 1            \n",
    "    while(i<k+1):\n",
    "        count = 0\n",
    "        for key, value in recallMatch.items():\n",
    "            if value == 0:\n",
    "                continue\n",
    "            elif value <= i:\n",
    "                count+=1\n",
    "        #print(count)\n",
    "        recall[i] = count/10\n",
    "        if i == 1:\n",
    "            i+=9\n",
    "        else:\n",
    "            i+=10\n",
    "    return recall\n",
    "            \n",
    "            \n",
    "                \n",
    "def indices_to_images(indices):\n",
    "    image_paths = []\n",
    "    for i in indices:\n",
    "        folder_name = i // 1000\n",
    "        file_name = i % 1000\n",
    "        folder_str = f\"{folder_name:04d}\"\n",
    "        file_str = f\"{file_name:03d}.jpg\"\n",
    "        image_paths.append(\"images\" + \"/\" + folder_str + \"/\" + file_str)\n",
    "    return image_paths\n",
    "        \n",
    "def ImageSimilar(features, k):\n",
    "    _, I = imgIndex.search(features, k) \n",
    "    similarList = I.tolist()\n",
    "    similarPath = indices_to_images(similarList[0])\n",
    "    return similarPath\n",
    "            "
   ]
  },
  {
   "cell_type": "code",
   "execution_count": 42,
   "id": "35dd42cc-a7ad-4f85-82ce-df48afc50b87",
   "metadata": {
    "tags": []
   },
   "outputs": [
    {
     "name": "stdout",
     "output_type": "stream",
     "text": [
      "{1: 0.7, 10: 1.6, 20: 2.2, 30: 2.9, 40: 3.2, 50: 3.4, 60: 3.6, 70: 3.6, 80: 3.7, 90: 3.8, 100: 4.1}\n"
     ]
    },
    {
     "data": {
      "text/plain": [
       "<Figure size 10000x10000 with 0 Axes>"
      ]
     },
     "metadata": {},
     "output_type": "display_data"
    }
   ],
   "source": [
    "print(recallK(100))"
   ]
  },
  {
   "cell_type": "code",
   "execution_count": null,
   "id": "b8f29a49-9ad2-42aa-a56a-95392aff42d5",
   "metadata": {},
   "outputs": [],
   "source": []
  },
  {
   "cell_type": "code",
   "execution_count": null,
   "id": "332833b8-5b68-4efe-9136-2c6e4d95c9b3",
   "metadata": {},
   "outputs": [],
   "source": []
  }
 ],
 "metadata": {
  "kernelspec": {
   "display_name": "Python 3 (ipykernel)",
   "language": "python",
   "name": "python3"
  },
  "language_info": {
   "codemirror_mode": {
    "name": "ipython",
    "version": 3
   },
   "file_extension": ".py",
   "mimetype": "text/x-python",
   "name": "python",
   "nbconvert_exporter": "python",
   "pygments_lexer": "ipython3",
   "version": "3.11.4"
  }
 },
 "nbformat": 4,
 "nbformat_minor": 5
}
